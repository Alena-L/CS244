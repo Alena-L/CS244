{
 "cells": [
  {
   "cell_type": "markdown",
   "metadata": {},
   "source": [
    "## Лабораторная работа 3: Создание словаря."
   ]
  },
  {
   "cell_type": "code",
   "execution_count": 1,
   "metadata": {},
   "outputs": [],
   "source": [
    "import json"
   ]
  },
  {
   "cell_type": "code",
   "execution_count": 2,
   "metadata": {},
   "outputs": [],
   "source": [
    "with open('clean_corpus') as file:\n",
    "  corpus = json.load(file)"
   ]
  },
  {
   "cell_type": "code",
   "execution_count": 4,
   "metadata": {},
   "outputs": [],
   "source": [
    "# т.к.корпус был очищен в ЛР2, приступим к токенизации"
   ]
  },
  {
   "cell_type": "code",
   "execution_count": 3,
   "metadata": {},
   "outputs": [],
   "source": [
    "dict_words = {}"
   ]
  },
  {
   "cell_type": "code",
   "execution_count": 4,
   "metadata": {},
   "outputs": [],
   "source": [
    "for i in range(len(corpus)):\n",
    "    dict_words[i+1] = corpus[i]['text'].split()\n",
    "    corpus[i]['wordcount'] = len(dict_words[i+1])"
   ]
  },
  {
   "cell_type": "code",
   "execution_count": 27,
   "metadata": {},
   "outputs": [
    {
     "data": {
      "text/plain": [
       "{'title': 'Ропен',\n",
       " 'text': 'ропен предположительно существующее летающее существо которое как утверждается многими местными жителями и некоторыми исследователями живёт на территории папуа новой гвинеи в книге поиски ропена говорится что это любое существо без перьев которое летает в юго западной части тихого океана и имеет длину хвоста более чем в 25 от его размаха крыльев',\n",
       " 'wordcount': 51}"
      ]
     },
     "execution_count": 27,
     "metadata": {},
     "output_type": "execute_result"
    }
   ],
   "source": [
    "corpus[54]"
   ]
  },
  {
   "cell_type": "code",
   "execution_count": 38,
   "metadata": {},
   "outputs": [],
   "source": [
    "# очистим текст от стоп-слов"
   ]
  },
  {
   "cell_type": "code",
   "execution_count": 13,
   "metadata": {},
   "outputs": [],
   "source": [
    "import nltk"
   ]
  },
  {
   "cell_type": "code",
   "execution_count": 18,
   "metadata": {},
   "outputs": [
    {
     "name": "stderr",
     "output_type": "stream",
     "text": [
      "[nltk_data] Downloading package stopwords to\n",
      "[nltk_data]     /home/luigi/snap/jupyter/6/nltk_data...\n",
      "[nltk_data]   Unzipping corpora/stopwords.zip.\n"
     ]
    },
    {
     "data": {
      "text/plain": [
       "True"
      ]
     },
     "execution_count": 18,
     "metadata": {},
     "output_type": "execute_result"
    }
   ],
   "source": [
    "nltk.download('stopwords')"
   ]
  },
  {
   "cell_type": "code",
   "execution_count": 19,
   "metadata": {},
   "outputs": [],
   "source": [
    "from nltk.corpus import stopwords\n",
    "stopwords_list = stopwords.words(\"russian\")"
   ]
  },
  {
   "cell_type": "code",
   "execution_count": 20,
   "metadata": {},
   "outputs": [
    {
     "data": {
      "text/plain": [
       "['минхочао',\n",
       " 'от',\n",
       " 'червь',\n",
       " 'огромный',\n",
       " 'гипотетический',\n",
       " 'червь',\n",
       " 'криптид',\n",
       " 'якобы',\n",
       " 'обитавший',\n",
       " 'в',\n",
       " 'бразилии',\n",
       " 'до',\n",
       " 'века',\n",
       " 'индейцы',\n",
       " 'бразилии',\n",
       " 'называют',\n",
       " 'его',\n",
       " 'битата',\n",
       " 'мбои',\n",
       " 'ассу',\n",
       " 'или',\n",
       " 'мбои',\n",
       " 'тата',\n",
       " 'последнее',\n",
       " 'название',\n",
       " 'происходит',\n",
       " 'из',\n",
       " 'старого',\n",
       " 'языка',\n",
       " 'племен',\n",
       " 'тупи',\n",
       " 'и',\n",
       " 'означает',\n",
       " 'огненная',\n",
       " 'змея']"
      ]
     },
     "execution_count": 20,
     "metadata": {},
     "output_type": "execute_result"
    }
   ],
   "source": [
    "dict_words[50]"
   ]
  },
  {
   "cell_type": "code",
   "execution_count": 21,
   "metadata": {},
   "outputs": [],
   "source": [
    "for i in range(1, len(dict_words)+1):\n",
    "    dict_words[i] = [word for word in dict_words[i] if word not in stopwords_list]"
   ]
  },
  {
   "cell_type": "code",
   "execution_count": 39,
   "metadata": {},
   "outputs": [
    {
     "data": {
      "text/plain": [
       "['минхочао',\n",
       " 'червь',\n",
       " 'огромный',\n",
       " 'гипотетический',\n",
       " 'червь',\n",
       " 'криптид',\n",
       " 'якобы',\n",
       " 'обитавший',\n",
       " 'бразилии',\n",
       " 'века',\n",
       " 'индейцы',\n",
       " 'бразилии',\n",
       " 'называют',\n",
       " 'битата',\n",
       " 'мбои',\n",
       " 'ассу',\n",
       " 'мбои',\n",
       " 'тата',\n",
       " 'последнее',\n",
       " 'название',\n",
       " 'происходит',\n",
       " 'старого',\n",
       " 'языка',\n",
       " 'племен',\n",
       " 'тупи',\n",
       " 'означает',\n",
       " 'огненная',\n",
       " 'змея']"
      ]
     },
     "execution_count": 39,
     "metadata": {},
     "output_type": "execute_result"
    }
   ],
   "source": [
    "dict_words[50]"
   ]
  },
  {
   "cell_type": "code",
   "execution_count": 96,
   "metadata": {},
   "outputs": [],
   "source": [
    "# проверим корпус на наличие опечаток с помощью Yandex Spellchecker API"
   ]
  },
  {
   "cell_type": "code",
   "execution_count": 37,
   "metadata": {},
   "outputs": [],
   "source": [
    "import requests"
   ]
  },
  {
   "cell_type": "code",
   "execution_count": 41,
   "metadata": {},
   "outputs": [],
   "source": [
    "def check_spelling(words):\n",
    "    domain = \"https://speller.yandex.net/services/spellservice.json\"\n",
    "    words = \"+\".join(words)\n",
    "    request = requests.get(domain + \"/checkText?text=\" + words)\n",
    "    if requests:\n",
    "        response = [(i[\"word\"], i[\"s\"]) for i in request.json()]\n",
    "        return response\n",
    "    else:\n",
    "        return None\n",
    "    return None  "
   ]
  },
  {
   "cell_type": "code",
   "execution_count": 95,
   "metadata": {},
   "outputs": [
    {
     "name": "stdout",
     "output_type": "stream",
     "text": [
      "[('тамам', ['таман', 'тамом', 'тамам'])]\n",
      "[('селеста', ['целеста'])]\n",
      "[('лабынгкыр', ['лабынкыр']), ('лабыкыр', ['лабынкыр'])]\n",
      "[('батмен', ['бэтмен'])]\n",
      "[('арабистики', ['арабистике'])]\n",
      "[('чжидэн', ['чжи дин']), ('сюнь', ['сунь'])]\n",
      "[('цикле', ['цикла'])]\n",
      "[('морен', ['морин'])]\n",
      "[('исчезновение', ['исчезновения'])]\n",
      "[('селеста', ['целеста'])]\n",
      "[('тамам', ['таман', 'тамом', 'тамам'])]\n",
      "[('манш', ['манша'])]\n",
      "[('шьяма прасад', ['шьямапрасад'])]\n",
      "[('мэриам', ['мириам'])]\n",
      "[('джанджкомо', ['джанджакомо']), ('фельтринлли', ['фельтринелли'])]\n",
      "[('мустафа', ['мостафа']), ('савехи', ['савихи'])]\n",
      "[('бьяка', ['бьянка'])]\n",
      "[('тисаэсларское', ['тиса эсларское'])]\n",
      "[('крокес', ['крокус'])]\n",
      "[('сибю', ['сиби'])]\n",
      "[('турия', ['турция'])]\n"
     ]
    }
   ],
   "source": [
    "for i in range(1, len(dict_words)+1):\n",
    "    if len(dict_words[i]) > 100:\n",
    "        count = len(dict_words[i])//100\n",
    "        for j in range(count):\n",
    "            if check_spelling(dict_words[i][j*100 : (j+1)*100]):\n",
    "                print(check_spelling(dict_words[i][j*100 : (j+1)*100]))\n",
    "        if check_spelling(dict_words[i][count*100 :]):\n",
    "            print(check_spelling(dict_words[i][count*100 :]))\n",
    "    else:\n",
    "        if check_spelling(dict_words[i]):\n",
    "            print(check_spelling(dict_words[i]))"
   ]
  },
  {
   "cell_type": "code",
   "execution_count": null,
   "metadata": {},
   "outputs": [],
   "source": [
    "# все найденные слова довольно специфичны и на мой взгляд не являются опечатками"
   ]
  },
  {
   "cell_type": "code",
   "execution_count": 97,
   "metadata": {},
   "outputs": [],
   "source": [
    "# поиск слова или похожих слов в тексте"
   ]
  },
  {
   "cell_type": "code",
   "execution_count": 98,
   "metadata": {},
   "outputs": [],
   "source": [
    "from nltk.metrics import edit_distance"
   ]
  },
  {
   "cell_type": "code",
   "execution_count": 112,
   "metadata": {},
   "outputs": [],
   "source": [
    "individual_words = {}"
   ]
  },
  {
   "cell_type": "code",
   "execution_count": 113,
   "metadata": {},
   "outputs": [],
   "source": [
    "for i in range(1, len(dict_words)+1):\n",
    "    individual_words[i] = set(dict_words[i])"
   ]
  },
  {
   "cell_type": "code",
   "execution_count": 119,
   "metadata": {},
   "outputs": [],
   "source": [
    "def search(word):\n",
    "    present = False\n",
    "    min_dif = 99\n",
    "    for i in range(1, len(individual_words)+1):\n",
    "        for w in individual_words[i]:\n",
    "            dif = edit_distance(word,w)\n",
    "            if dif == 0:\n",
    "                present = True;\n",
    "                print('Встречается в тексте под номером ',i)\n",
    "            else:\n",
    "                if dif < min_dif:\n",
    "                    closest_words = []\n",
    "                    min_dif = dif;\n",
    "                    closest_words.append(w)\n",
    "                if dif == min_dif:\n",
    "                    closest_words.append(w)\n",
    "    if not present:\n",
    "        print('Наиболее похожие слова ', set(closest_words))"
   ]
  },
  {
   "cell_type": "code",
   "execution_count": 131,
   "metadata": {},
   "outputs": [
    {
     "name": "stdout",
     "output_type": "stream",
     "text": [
      "Встречается в тексте под номером  117\n"
     ]
    }
   ],
   "source": [
    "search('пропажа')"
   ]
  },
  {
   "cell_type": "code",
   "execution_count": 116,
   "metadata": {},
   "outputs": [
    {
     "name": "stdout",
     "output_type": "stream",
     "text": [
      "Встречается в тексте под номером  14\n",
      "Встречается в тексте под номером  58\n",
      "Встречается в тексте под номером  73\n",
      "Встречается в тексте под номером  95\n"
     ]
    }
   ],
   "source": [
    "search('цвет')"
   ]
  },
  {
   "cell_type": "code",
   "execution_count": 142,
   "metadata": {},
   "outputs": [
    {
     "name": "stdout",
     "output_type": "stream",
     "text": [
      "Встречается в тексте под номером  2\n",
      "Встречается в тексте под номером  113\n",
      "Встречается в тексте под номером  146\n",
      "Встречается в тексте под номером  151\n",
      "Встречается в тексте под номером  162\n",
      "Встречается в тексте под номером  163\n",
      "Встречается в тексте под номером  203\n"
     ]
    }
   ],
   "source": [
    "search('смерть')"
   ]
  },
  {
   "cell_type": "code",
   "execution_count": 136,
   "metadata": {},
   "outputs": [
    {
     "name": "stdout",
     "output_type": "stream",
     "text": [
      "Наиболее похожие слова  {'вошла'}\n"
     ]
    }
   ],
   "source": [
    "search('вобла')"
   ]
  },
  {
   "cell_type": "code",
   "execution_count": 138,
   "metadata": {},
   "outputs": [
    {
     "name": "stdout",
     "output_type": "stream",
     "text": [
      "Наиболее похожие слова  {'однако', 'облик'}\n"
     ]
    }
   ],
   "source": [
    "search('облако')"
   ]
  },
  {
   "cell_type": "code",
   "execution_count": 141,
   "metadata": {},
   "outputs": [
    {
     "name": "stdout",
     "output_type": "stream",
     "text": [
      "Наиболее похожие слова  {'найденный', 'раздвоенными', 'нацеленные'}\n"
     ]
    }
   ],
   "source": [
    "search('разделенный')"
   ]
  }
 ],
 "metadata": {
  "kernelspec": {
   "display_name": "Python 3",
   "language": "python",
   "name": "python3"
  },
  "language_info": {
   "codemirror_mode": {
    "name": "ipython",
    "version": 3
   },
   "file_extension": ".py",
   "mimetype": "text/x-python",
   "name": "python",
   "nbconvert_exporter": "python",
   "pygments_lexer": "ipython3",
   "version": "3.7.3"
  }
 },
 "nbformat": 4,
 "nbformat_minor": 2
}

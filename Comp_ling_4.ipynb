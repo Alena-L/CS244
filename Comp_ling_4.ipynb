{
 "cells": [
  {
   "cell_type": "markdown",
   "metadata": {},
   "source": [
    "## Лабораторная работа 4: Морфологический анализ. Частеречная разметка."
   ]
  },
  {
   "cell_type": "code",
   "execution_count": 1,
   "metadata": {},
   "outputs": [],
   "source": [
    "import json"
   ]
  },
  {
   "cell_type": "code",
   "execution_count": 2,
   "metadata": {},
   "outputs": [],
   "source": [
    "with open('clean_corpus') as file:\n",
    "    corpus = json.load(file)"
   ]
  },
  {
   "cell_type": "code",
   "execution_count": 3,
   "metadata": {},
   "outputs": [],
   "source": [
    "dict_words = {}"
   ]
  },
  {
   "cell_type": "code",
   "execution_count": 4,
   "metadata": {},
   "outputs": [],
   "source": [
    "for i in range(len(corpus)):\n",
    "    dict_words[i+1] = corpus[i]['text'].split()\n",
    "    corpus[i]['wordcount'] = len(dict_words[i+1])"
   ]
  },
  {
   "cell_type": "code",
   "execution_count": 10,
   "metadata": {},
   "outputs": [],
   "source": [
    "with open('clean_corpus', 'w', encoding='utf8') as write_f:\n",
    "    json.dump(corpus, write_f, ensure_ascii=False)"
   ]
  },
  {
   "cell_type": "code",
   "execution_count": 15,
   "metadata": {},
   "outputs": [],
   "source": [
    "# предобработка: удаление стоп слов"
   ]
  },
  {
   "cell_type": "code",
   "execution_count": 12,
   "metadata": {},
   "outputs": [],
   "source": [
    "import nltk"
   ]
  },
  {
   "cell_type": "code",
   "execution_count": 13,
   "metadata": {},
   "outputs": [],
   "source": [
    "from nltk.corpus import stopwords\n",
    "stopwords_list = stopwords.words(\"russian\")"
   ]
  },
  {
   "cell_type": "code",
   "execution_count": 14,
   "metadata": {},
   "outputs": [],
   "source": [
    "for i in range(1, len(dict_words)+1):\n",
    "    dict_words[i] = [word for word in dict_words[i] if word not in stopwords_list]"
   ]
  },
  {
   "cell_type": "code",
   "execution_count": 37,
   "metadata": {},
   "outputs": [],
   "source": [
    "# частеречная разметка"
   ]
  },
  {
   "cell_type": "code",
   "execution_count": 17,
   "metadata": {},
   "outputs": [
    {
     "name": "stdout",
     "output_type": "stream",
     "text": [
      "Collecting pymorphy2\n",
      "\u001b[?25l  Downloading https://files.pythonhosted.org/packages/07/57/b2ff2fae3376d4f3c697b9886b64a54b476e1a332c67eee9f88e7f1ae8c9/pymorphy2-0.9.1-py3-none-any.whl (55kB)\n",
      "\u001b[K     |████████████████████████████████| 61kB 4.6MB/s eta 0:00:011\n",
      "\u001b[?25hCollecting dawg-python>=0.7.1 (from pymorphy2)\n",
      "  Downloading https://files.pythonhosted.org/packages/6a/84/ff1ce2071d4c650ec85745766c0047ccc3b5036f1d03559fd46bb38b5eeb/DAWG_Python-0.7.2-py2.py3-none-any.whl\n",
      "Collecting docopt>=0.6 (from pymorphy2)\n",
      "  Downloading https://files.pythonhosted.org/packages/a2/55/8f8cab2afd404cf578136ef2cc5dfb50baa1761b68c9da1fb1e4eed343c9/docopt-0.6.2.tar.gz\n",
      "Collecting pymorphy2-dicts-ru<3.0,>=2.4 (from pymorphy2)\n",
      "\u001b[?25l  Downloading https://files.pythonhosted.org/packages/3a/79/bea0021eeb7eeefde22ef9e96badf174068a2dd20264b9a378f2be1cdd9e/pymorphy2_dicts_ru-2.4.417127.4579844-py2.py3-none-any.whl (8.2MB)\n",
      "\u001b[K     |████████████████████████████████| 8.2MB 4.6MB/s eta 0:00:01\n",
      "\u001b[?25hBuilding wheels for collected packages: docopt\n",
      "  Building wheel for docopt (setup.py) ... \u001b[?25ldone\n",
      "\u001b[?25h  Stored in directory: /home/luigi/snap/jupyter/6/.cache/pip/wheels/9b/04/dd/7daf4150b6d9b12949298737de9431a324d4b797ffd63f526e\n",
      "Successfully built docopt\n",
      "Installing collected packages: dawg-python, docopt, pymorphy2-dicts-ru, pymorphy2\n",
      "Successfully installed dawg-python-0.7.2 docopt-0.6.2 pymorphy2-0.9.1 pymorphy2-dicts-ru-2.4.417127.4579844\n"
     ]
    }
   ],
   "source": [
    "!pip install pymorphy2"
   ]
  },
  {
   "cell_type": "code",
   "execution_count": 18,
   "metadata": {},
   "outputs": [],
   "source": [
    "import pymorphy2\n",
    "analyzer = pymorphy2.MorphAnalyzer()"
   ]
  },
  {
   "cell_type": "code",
   "execution_count": 30,
   "metadata": {},
   "outputs": [],
   "source": [
    "POS_tags = {}"
   ]
  },
  {
   "cell_type": "code",
   "execution_count": 32,
   "metadata": {},
   "outputs": [],
   "source": [
    "for i in range(1, len(dict_words)+1):\n",
    "    POS_tags[i] = []\n",
    "    for word in dict_words[i]:\n",
    "        POS_tags[i].append(analyzer.parse(word)[0].tag.POS)"
   ]
  },
  {
   "cell_type": "code",
   "execution_count": 40,
   "metadata": {},
   "outputs": [
    {
     "data": {
      "text/plain": [
       "216"
      ]
     },
     "execution_count": 40,
     "metadata": {},
     "output_type": "execute_result"
    }
   ],
   "source": [
    "len(POS_tags)"
   ]
  },
  {
   "cell_type": "code",
   "execution_count": 38,
   "metadata": {},
   "outputs": [],
   "source": [
    "# морфологический анализ "
   ]
  },
  {
   "cell_type": "code",
   "execution_count": 84,
   "metadata": {},
   "outputs": [
    {
     "name": "stdout",
     "output_type": "stream",
     "text": [
      "Collecting numpy\n",
      "\u001b[?25l  Downloading https://files.pythonhosted.org/packages/73/ef/8967d406f3f85018ceb5efab50431e901683188f1741ceb053efcab26c87/numpy-1.20.2-cp37-cp37m-manylinux2010_x86_64.whl (15.3MB)\n",
      "\u001b[K     |████████████████████████████████| 15.3MB 12.2MB/s eta 0:00:01    |█████████████████████▉          | 10.5MB 989kB/s eta 0:00:05\n",
      "\u001b[?25hInstalling collected packages: numpy\n",
      "Successfully installed numpy-1.20.2\n"
     ]
    }
   ],
   "source": [
    "!pip install numpy"
   ]
  },
  {
   "cell_type": "code",
   "execution_count": 85,
   "metadata": {},
   "outputs": [],
   "source": [
    "import numpy"
   ]
  },
  {
   "cell_type": "code",
   "execution_count": 44,
   "metadata": {},
   "outputs": [],
   "source": [
    "POS_quantity = dict(dict())"
   ]
  },
  {
   "cell_type": "code",
   "execution_count": 45,
   "metadata": {},
   "outputs": [],
   "source": [
    "for i in range(1, len(POS_tags)+1):\n",
    "    POS_quantity[i] = {}\n",
    "    for pos in set(POS_tags[i]):\n",
    "        POS_quantity[i][pos] = POS_tags[i].count(pos)     "
   ]
  },
  {
   "cell_type": "code",
   "execution_count": 54,
   "metadata": {},
   "outputs": [
    {
     "data": {
      "text/plain": [
       "{'NOUN': 68,\n",
       " 'ADVB': 4,\n",
       " 'VERB': 10,\n",
       " 'GRND': 2,\n",
       " 'PREP': 1,\n",
       " 'PRTS': 3,\n",
       " 'PRTF': 2,\n",
       " 'ADJF': 46,\n",
       " None: 1,\n",
       " 'CONJ': 4,\n",
       " 'PRCL': 2}"
      ]
     },
     "execution_count": 54,
     "metadata": {},
     "output_type": "execute_result"
    }
   ],
   "source": [
    "POS_quantity[1]"
   ]
  },
  {
   "cell_type": "code",
   "execution_count": 48,
   "metadata": {},
   "outputs": [],
   "source": [
    "POS_quality = dict(dict())"
   ]
  },
  {
   "cell_type": "code",
   "execution_count": 58,
   "metadata": {},
   "outputs": [],
   "source": [
    "for i in range(1, len(POS_quantity)+1):\n",
    "    POS_quality[i] = {}\n",
    "    for pos in (POS_quantity[i]):\n",
    "        POS_quality[i][pos] = round((POS_quantity[i][pos]/corpus[i-1]['wordcount']),2)"
   ]
  },
  {
   "cell_type": "code",
   "execution_count": 75,
   "metadata": {},
   "outputs": [
    {
     "data": {
      "text/plain": [
       "{'NOUN': 0.35,\n",
       " 'ADVB': 0.02,\n",
       " 'VERB': 0.05,\n",
       " 'GRND': 0.01,\n",
       " 'PREP': 0.01,\n",
       " 'PRTS': 0.02,\n",
       " 'PRTF': 0.01,\n",
       " 'ADJF': 0.24,\n",
       " None: 0.01,\n",
       " 'CONJ': 0.02,\n",
       " 'PRCL': 0.01}"
      ]
     },
     "execution_count": 75,
     "metadata": {},
     "output_type": "execute_result"
    }
   ],
   "source": [
    "POS_quality[1]"
   ]
  },
  {
   "cell_type": "code",
   "execution_count": 102,
   "metadata": {},
   "outputs": [],
   "source": [
    "mean = {}\n",
    "tags = []"
   ]
  },
  {
   "cell_type": "code",
   "execution_count": 103,
   "metadata": {},
   "outputs": [],
   "source": [
    "for i in range(1, len(POS_quantity)+1):\n",
    "    for pos in (POS_quantity[i]):\n",
    "        tags.append(pos)\n",
    "tags = set(tags)"
   ]
  },
  {
   "cell_type": "code",
   "execution_count": 104,
   "metadata": {},
   "outputs": [
    {
     "data": {
      "text/plain": [
       "{'ADJF',\n",
       " 'ADJS',\n",
       " 'ADVB',\n",
       " 'COMP',\n",
       " 'CONJ',\n",
       " 'GRND',\n",
       " 'INFN',\n",
       " 'INTJ',\n",
       " 'NOUN',\n",
       " 'NPRO',\n",
       " 'NUMR',\n",
       " None,\n",
       " 'PRCL',\n",
       " 'PRED',\n",
       " 'PREP',\n",
       " 'PRTF',\n",
       " 'PRTS',\n",
       " 'VERB'}"
      ]
     },
     "execution_count": 104,
     "metadata": {},
     "output_type": "execute_result"
    }
   ],
   "source": [
    "tags"
   ]
  },
  {
   "cell_type": "code",
   "execution_count": 105,
   "metadata": {},
   "outputs": [],
   "source": [
    "for tag in tags:\n",
    "    mean[tag] = []\n",
    "    for i in range(1, len(POS_quality)+1):\n",
    "        if tag in POS_quality[i].keys():\n",
    "            mean[tag].append(POS_quality[i][tag])"
   ]
  },
  {
   "cell_type": "code",
   "execution_count": 101,
   "metadata": {},
   "outputs": [],
   "source": [
    "std = {}"
   ]
  },
  {
   "cell_type": "code",
   "execution_count": 109,
   "metadata": {},
   "outputs": [],
   "source": [
    "for tag in tags:\n",
    "    std[tag] = round(numpy.std(mean[tag]),2)"
   ]
  },
  {
   "cell_type": "code",
   "execution_count": 110,
   "metadata": {},
   "outputs": [
    {
     "data": {
      "text/plain": [
       "{'NOUN': 0.08,\n",
       " 'ADVB': 0.02,\n",
       " 'VERB': 0.03,\n",
       " 'GRND': 0.01,\n",
       " 'PRED': 0.01,\n",
       " 'PREP': 0.01,\n",
       " 'PRTS': 0.01,\n",
       " 'NUMR': 0.02,\n",
       " 'INFN': 0.01,\n",
       " 'PRTF': 0.02,\n",
       " 'INTJ': 0.01,\n",
       " 'ADJS': 0.02,\n",
       " 'ADJF': 0.05,\n",
       " None: 0.06,\n",
       " 'NPRO': 0.01,\n",
       " 'CONJ': 0.01,\n",
       " 'PRCL': 0.02,\n",
       " 'COMP': 0.01}"
      ]
     },
     "execution_count": 110,
     "metadata": {},
     "output_type": "execute_result"
    }
   ],
   "source": [
    "std"
   ]
  },
  {
   "cell_type": "code",
   "execution_count": 111,
   "metadata": {},
   "outputs": [],
   "source": [
    "for record in mean:\n",
    "    mean[record] = round(numpy.sum(mean[record])/len(mean[record]), 2)"
   ]
  },
  {
   "cell_type": "code",
   "execution_count": 112,
   "metadata": {},
   "outputs": [
    {
     "data": {
      "text/plain": [
       "{'NOUN': 0.44,\n",
       " 'ADVB': 0.03,\n",
       " 'VERB': 0.06,\n",
       " 'GRND': 0.01,\n",
       " 'PRED': 0.01,\n",
       " 'PREP': 0.01,\n",
       " 'PRTS': 0.02,\n",
       " 'NUMR': 0.02,\n",
       " 'INFN': 0.02,\n",
       " 'PRTF': 0.03,\n",
       " 'INTJ': 0.02,\n",
       " 'ADJS': 0.02,\n",
       " 'ADJF': 0.14,\n",
       " None: 0.07,\n",
       " 'NPRO': 0.01,\n",
       " 'CONJ': 0.02,\n",
       " 'PRCL': 0.02,\n",
       " 'COMP': 0.01}"
      ]
     },
     "execution_count": 112,
     "metadata": {},
     "output_type": "execute_result"
    }
   ],
   "source": [
    "mean"
   ]
  },
  {
   "cell_type": "code",
   "execution_count": 117,
   "metadata": {},
   "outputs": [],
   "source": [
    "nontypical = []"
   ]
  },
  {
   "cell_type": "code",
   "execution_count": 134,
   "metadata": {},
   "outputs": [],
   "source": [
    "for i in range(1, len(POS_quality)+1):\n",
    "    for tag in POS_quality[i]:\n",
    "        if (POS_quality[i][tag] > (mean[tag] + std[tag]*2)) or \\\n",
    "           (POS_quality[i][tag] < (mean[tag] - std[tag]*2)):\n",
    "            nontypical.append(i)"
   ]
  },
  {
   "cell_type": "code",
   "execution_count": 138,
   "metadata": {},
   "outputs": [
    {
     "data": {
      "text/plain": [
       "71"
      ]
     },
     "execution_count": 138,
     "metadata": {},
     "output_type": "execute_result"
    }
   ],
   "source": [
    "len(nontypical)"
   ]
  },
  {
   "cell_type": "code",
   "execution_count": 139,
   "metadata": {},
   "outputs": [
    {
     "name": "stdout",
     "output_type": "stream",
     "text": [
      "[2, 7, 9, 19, 21, 24, 27, 27, 28, 39, 41, 43, 43, 44, 52, 59, 60, 62, 64, 64, 66, 75, 78, 84, 86, 86, 90, 90, 96, 98, 100, 122, 126, 127, 127, 127, 138, 140, 144, 145, 147, 148, 152, 156, 157, 157, 157, 158, 159, 160, 161, 161, 171, 171, 172, 176, 177, 181, 186, 190, 192, 192, 194, 195, 198, 200, 200, 206, 209, 214, 215]\n"
     ]
    }
   ],
   "source": [
    "print(nontypical)"
   ]
  }
 ],
 "metadata": {
  "kernelspec": {
   "display_name": "Python 3",
   "language": "python",
   "name": "python3"
  },
  "language_info": {
   "codemirror_mode": {
    "name": "ipython",
    "version": 3
   },
   "file_extension": ".py",
   "mimetype": "text/x-python",
   "name": "python",
   "nbconvert_exporter": "python",
   "pygments_lexer": "ipython3",
   "version": "3.7.3"
  }
 },
 "nbformat": 4,
 "nbformat_minor": 2
}

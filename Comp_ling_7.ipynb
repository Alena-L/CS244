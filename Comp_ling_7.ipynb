{
 "cells": [
  {
   "cell_type": "code",
   "execution_count": 1,
   "metadata": {
    "collapsed": true,
    "pycharm": {
     "is_executing": false
    }
   },
   "outputs": [],
   "source": [
    "import pandas as pd\n"
   ]
  },
  {
   "cell_type": "code",
   "execution_count": 9,
   "outputs": [],
   "source": [
    "data = pd.read_csv(\"plot.txt\", header=None, delimiter=\"\\n\")"
   ],
   "metadata": {
    "collapsed": false,
    "pycharm": {
     "name": "#%%\n",
     "is_executing": false
    }
   }
  },
  {
   "cell_type": "code",
   "execution_count": 10,
   "outputs": [
    {
     "data": {
      "text/plain": "                                                   0\n0  the movie begins in the past where a young boy...\n1  emerging from the human psyche and showing cha...\n2  spurning her mother's insistence that she get ...\n3  amitabh can't believe the board of directors a...\n4  she , among others excentricities , talks to a...",
      "text/html": "<div>\n<style scoped>\n    .dataframe tbody tr th:only-of-type {\n        vertical-align: middle;\n    }\n\n    .dataframe tbody tr th {\n        vertical-align: top;\n    }\n\n    .dataframe thead th {\n        text-align: right;\n    }\n</style>\n<table border=\"1\" class=\"dataframe\">\n  <thead>\n    <tr style=\"text-align: right;\">\n      <th></th>\n      <th>0</th>\n    </tr>\n  </thead>\n  <tbody>\n    <tr>\n      <th>0</th>\n      <td>the movie begins in the past where a young boy...</td>\n    </tr>\n    <tr>\n      <th>1</th>\n      <td>emerging from the human psyche and showing cha...</td>\n    </tr>\n    <tr>\n      <th>2</th>\n      <td>spurning her mother's insistence that she get ...</td>\n    </tr>\n    <tr>\n      <th>3</th>\n      <td>amitabh can't believe the board of directors a...</td>\n    </tr>\n    <tr>\n      <th>4</th>\n      <td>she , among others excentricities , talks to a...</td>\n    </tr>\n  </tbody>\n</table>\n</div>"
     },
     "metadata": {},
     "output_type": "execute_result",
     "execution_count": 10
    }
   ],
   "source": [
    "data.head()\n"
   ],
   "metadata": {
    "collapsed": false,
    "pycharm": {
     "name": "#%%\n",
     "is_executing": false
    }
   }
  },
  {
   "cell_type": "code",
   "execution_count": 12,
   "outputs": [
    {
     "data": {
      "text/plain": "'the movie begins in the past where a young boy named sam attempts to save celebi from a hunter . '"
     },
     "metadata": {},
     "output_type": "execute_result",
     "execution_count": 12
    }
   ],
   "source": [
    "data[0][0]"
   ],
   "metadata": {
    "collapsed": false,
    "pycharm": {
     "name": "#%%\n",
     "is_executing": false
    }
   }
  },
  {
   "cell_type": "code",
   "execution_count": 14,
   "outputs": [
    {
     "name": "stderr",
     "text": [
      "[nltk_data] Downloading package punkt to\n",
      "[nltk_data]     C:\\Users\\Luigi\\AppData\\Roaming\\nltk_data...\n",
      "[nltk_data]   Package punkt is already up-to-date!\n"
     ],
     "output_type": "stream"
    },
    {
     "data": {
      "text/plain": "True"
     },
     "metadata": {},
     "output_type": "execute_result",
     "execution_count": 14
    }
   ],
   "source": [
    "import nltk.data # библиотека Natural Language Toolkit\n",
    "import re   # библиотека для регулярных выражений\n",
    "from nltk.corpus import stopwords # стоп-слова из NLTK\n",
    "nltk.download('punkt') # пунктуация для правильной работы токенизатора"
   ],
   "metadata": {
    "collapsed": false,
    "pycharm": {
     "name": "#%%\n",
     "is_executing": false
    }
   }
  },
  {
   "cell_type": "code",
   "execution_count": 15,
   "outputs": [],
   "source": [
    "tokenizer = nltk.data.load('tokenizers/punkt/english.pickle')\n"
   ],
   "metadata": {
    "collapsed": false,
    "pycharm": {
     "name": "#%%\n",
     "is_executing": false
    }
   }
  },
  {
   "cell_type": "code",
   "execution_count": 22,
   "outputs": [],
   "source": [
    "def review_to_wordlist(review, remove_stopwords=False):\n",
    "    # оставляем только буквенные символы\n",
    "    review = re.sub(\"[^a-zA-Z]\",\" \", review)\n",
    "    # разбиваем на слова по символу пробела\n",
    "    words = review.split()\n",
    "    if remove_stopwords:\n",
    "      # убираем стоп-слова\n",
    "        stops = stopwords.words(\"english\")\n",
    "        words = [w for w in words if not w in stops]\n",
    "    return words\n",
    "\n",
    "def review_to_sentences(review, tokenizer, remove_stopwords=False):\n",
    "    raw_sentences = tokenizer.tokenize(review.strip())\n",
    "    sent_list = []\n",
    "    for raw_sentence in raw_sentences:\n",
    "        if len(raw_sentence) > 0:\n",
    "            sent_list.append(review_to_wordlist(raw_sentence, remove_stopwords))\n",
    "    return sent_list"
   ],
   "metadata": {
    "collapsed": false,
    "pycharm": {
     "name": "#%%\n",
     "is_executing": false
    }
   }
  },
  {
   "cell_type": "code",
   "execution_count": 23,
   "outputs": [
    {
     "name": "stdout",
     "text": [
      "Parsing sentences from training set...\n"
     ],
     "output_type": "stream"
    }
   ],
   "source": [
    "sentences = []  \n",
    "\n",
    "print(\"Parsing sentences from training set...\")\n",
    "for sent in data[0]:\n",
    "    sentences += review_to_sentences(sent, tokenizer)\n",
    "    "
   ],
   "metadata": {
    "collapsed": false,
    "pycharm": {
     "name": "#%%\n",
     "is_executing": false
    }
   }
  },
  {
   "cell_type": "code",
   "execution_count": 24,
   "outputs": [
    {
     "data": {
      "text/plain": "5553"
     },
     "metadata": {},
     "output_type": "execute_result",
     "execution_count": 24
    }
   ],
   "source": [
    "len(sentences)\n"
   ],
   "metadata": {
    "collapsed": false,
    "pycharm": {
     "name": "#%%\n",
     "is_executing": false
    }
   }
  },
  {
   "cell_type": "code",
   "execution_count": 42,
   "outputs": [
    {
     "data": {
      "text/plain": "['adapted',\n 'from',\n 'a',\n 'monologue',\n 'in',\n 'his',\n 'blue',\n 'jam',\n 'radio',\n 'series',\n 'chris',\n 'morris',\n 'first',\n 'short',\n 'film',\n 'is',\n 'a',\n 'haunting',\n 'black',\n 'comedy',\n 'about',\n 'a',\n 'man',\n 'who',\n 'no',\n 'longer',\n 'uses',\n 'his',\n 'name',\n 'because',\n 'he',\n 's',\n 'decided',\n 'he',\n 's',\n 'ceased',\n 'to',\n 'deserve',\n 'one',\n 'and',\n 'a',\n 'dog',\n 'called',\n 'rothko',\n 'who',\n 'says',\n 'he',\n 'is',\n 'the',\n 'man',\n 's',\n 'lawyer']"
     },
     "metadata": {},
     "output_type": "execute_result",
     "execution_count": 42
    }
   ],
   "source": [
    "sentences[4740]\n"
   ],
   "metadata": {
    "collapsed": false,
    "pycharm": {
     "name": "#%%\n",
     "is_executing": false
    }
   }
  },
  {
   "cell_type": "code",
   "execution_count": 34,
   "outputs": [],
   "source": [
    "import gensim \n",
    "from gensim.models import word2vec\n",
    "from gensim.models import Word2Vec"
   ],
   "metadata": {
    "collapsed": false,
    "pycharm": {
     "name": "#%%\n",
     "is_executing": false
    }
   }
  },
  {
   "cell_type": "code",
   "execution_count": 91,
   "outputs": [
    {
     "name": "stdout",
     "text": [
      "Training model...\n",
      "Wall time: 551 ms\n"
     ],
     "output_type": "stream"
    }
   ],
   "source": [
    "print(\"Training model...\")\n",
    "%time model_en = word2vec.Word2Vec(sentences, vector_size=100, window=10, min_count=5, workers=4)"
   ],
   "metadata": {
    "collapsed": false,
    "pycharm": {
     "name": "#%%\n",
     "is_executing": false
    }
   }
  },
  {
   "cell_type": "code",
   "execution_count": 92,
   "outputs": [
    {
     "name": "stdout",
     "text": [
      "2901\n"
     ],
     "output_type": "stream"
    }
   ],
   "source": [
    "print(len(model_en.wv.index_to_key))\n"
   ],
   "metadata": {
    "collapsed": false,
    "pycharm": {
     "name": "#%%\n",
     "is_executing": false
    }
   }
  },
  {
   "cell_type": "code",
   "execution_count": 93,
   "outputs": [
    {
     "name": "stdout",
     "text": [
      "[('personal', 0.9987538456916809), ('through', 0.9987449049949646), ('power', 0.9987229704856873)]\n",
      "[('american', 0.9995850920677185), ('dark', 0.999584972858429), ('documentary', 0.9995837211608887)]\n",
      "[('american', 0.9993696808815002), ('movie', 0.9993507266044617), ('this', 0.9993354678153992)]\n",
      "[('school', 0.9983227849006653), ('long', 0.9982951879501343), ('police', 0.9982432126998901)]\n",
      "[('american', 0.9997138977050781), ('town', 0.9997057914733887), ('between', 0.9996850490570068)]\n"
     ],
     "output_type": "stream"
    }
   ],
   "source": [
    "print(model_en.wv.most_similar(\"plot\", topn=3))\n",
    "print(model_en.wv.most_similar(\"comedy\", topn=3))\n",
    "print(model_en.wv.most_similar(\"drama\", topn=3))\n",
    "print(model_en.wv.most_similar(\"thriller\", topn=3))\n",
    "print(model_en.wv.most_similar(\"movie\", topn=3))"
   ],
   "metadata": {
    "collapsed": false,
    "pycharm": {
     "name": "#%%\n",
     "is_executing": false
    }
   }
  },
  {
   "cell_type": "code",
   "execution_count": 138,
   "outputs": [
    {
     "name": "stdout",
     "text": [
      "people\n"
     ],
     "output_type": "stream"
    }
   ],
   "source": [
    "print(model_en.wv.most_similar(positive=[\"fan\", \"movie\"], topn=1)[0][0])"
   ],
   "metadata": {
    "collapsed": false,
    "pycharm": {
     "name": "#%%\n",
     "is_executing": false
    }
   }
  },
  {
   "cell_type": "code",
   "execution_count": 139,
   "outputs": [
    {
     "name": "stdout",
     "text": [
      "girl\n"
     ],
     "output_type": "stream"
    }
   ],
   "source": [
    "print(model_en.wv.most_similar(positive=[\"drama\", \"love\"], topn=1)[0][0])\n"
   ],
   "metadata": {
    "collapsed": false,
    "pycharm": {
     "name": "#%%\n",
     "is_executing": false
    }
   }
  },
  {
   "cell_type": "code",
   "execution_count": 148,
   "outputs": [
    {
     "data": {
      "text/plain": "0.999546"
     },
     "metadata": {},
     "output_type": "execute_result",
     "execution_count": 148
    }
   ],
   "source": [
    "model_en.wv.similarity('police', 'murder')"
   ],
   "metadata": {
    "collapsed": false,
    "pycharm": {
     "name": "#%%\n",
     "is_executing": false
    }
   }
  },
  {
   "cell_type": "code",
   "execution_count": 160,
   "outputs": [
    {
     "data": {
      "text/plain": "0.9845945"
     },
     "metadata": {},
     "output_type": "execute_result",
     "execution_count": 160
    }
   ],
   "source": [
    "model_en.wv.similarity('horse', 'monster')"
   ],
   "metadata": {
    "collapsed": false,
    "pycharm": {
     "name": "#%%\n",
     "is_executing": false
    }
   }
  },
  {
   "cell_type": "markdown",
   "source": [
    "## Дообучим модель на втором корпусе"
   ],
   "metadata": {
    "collapsed": false
   }
  },
  {
   "cell_type": "code",
   "execution_count": 161,
   "outputs": [],
   "source": [
    "data_2 = pd.read_csv(\"quote.txt\", header=None, delimiter=\"\\n\")\n"
   ],
   "metadata": {
    "collapsed": false,
    "pycharm": {
     "name": "#%%\n",
     "is_executing": false
    }
   }
  },
  {
   "cell_type": "code",
   "execution_count": 162,
   "outputs": [
    {
     "data": {
      "text/plain": "                                                   0\n0  smart and alert , thirteen conversations about...\n1  color , musical bounce and warm seas lapping o...\n2  it is not a mass-market entertainment but an u...\n3  a light-hearted french film about the spiritua...\n4  my wife is an actress has its moments in looki...",
      "text/html": "<div>\n<style scoped>\n    .dataframe tbody tr th:only-of-type {\n        vertical-align: middle;\n    }\n\n    .dataframe tbody tr th {\n        vertical-align: top;\n    }\n\n    .dataframe thead th {\n        text-align: right;\n    }\n</style>\n<table border=\"1\" class=\"dataframe\">\n  <thead>\n    <tr style=\"text-align: right;\">\n      <th></th>\n      <th>0</th>\n    </tr>\n  </thead>\n  <tbody>\n    <tr>\n      <th>0</th>\n      <td>smart and alert , thirteen conversations about...</td>\n    </tr>\n    <tr>\n      <th>1</th>\n      <td>color , musical bounce and warm seas lapping o...</td>\n    </tr>\n    <tr>\n      <th>2</th>\n      <td>it is not a mass-market entertainment but an u...</td>\n    </tr>\n    <tr>\n      <th>3</th>\n      <td>a light-hearted french film about the spiritua...</td>\n    </tr>\n    <tr>\n      <th>4</th>\n      <td>my wife is an actress has its moments in looki...</td>\n    </tr>\n  </tbody>\n</table>\n</div>"
     },
     "metadata": {},
     "output_type": "execute_result",
     "execution_count": 162
    }
   ],
   "source": [
    "data_2.head()\n"
   ],
   "metadata": {
    "collapsed": false,
    "pycharm": {
     "name": "#%%\n",
     "is_executing": false
    }
   }
  },
  {
   "cell_type": "code",
   "execution_count": 163,
   "outputs": [
    {
     "name": "stdout",
     "text": [
      "Parsing sentences from training set...\n"
     ],
     "output_type": "stream"
    }
   ],
   "source": [
    "new_sentences = []  \n",
    "\n",
    "print(\"Parsing sentences from training set...\")\n",
    "for sent in data_2[0]:\n",
    "    new_sentences += review_to_sentences(sent, tokenizer)\n"
   ],
   "metadata": {
    "collapsed": false,
    "pycharm": {
     "name": "#%%\n",
     "is_executing": false
    }
   }
  },
  {
   "cell_type": "code",
   "execution_count": 164,
   "outputs": [
    {
     "name": "stdout",
     "text": [
      "Saving model...\n"
     ],
     "output_type": "stream"
    }
   ],
   "source": [
    "model_path = \"movie_reviews.model\"\n",
    "print(\"Saving model...\")\n",
    "model_en.save(model_path)\n"
   ],
   "metadata": {
    "collapsed": false,
    "pycharm": {
     "name": "#%%\n",
     "is_executing": false
    }
   }
  },
  {
   "cell_type": "code",
   "execution_count": 165,
   "outputs": [],
   "source": [
    "model = word2vec.Word2Vec.load(model_path)\n"
   ],
   "metadata": {
    "collapsed": false,
    "pycharm": {
     "name": "#%%\n",
     "is_executing": false
    }
   }
  },
  {
   "cell_type": "code",
   "execution_count": 166,
   "outputs": [
    {
     "data": {
      "text/plain": "(319641, 526650)"
     },
     "metadata": {},
     "output_type": "execute_result",
     "execution_count": 166
    }
   ],
   "source": [
    "model.build_vocab(new_sentences, update=True)\n",
    "model.train(new_sentences, total_examples=model.corpus_count, epochs=5)\n"
   ],
   "metadata": {
    "collapsed": false,
    "pycharm": {
     "name": "#%%\n",
     "is_executing": false
    }
   }
  },
  {
   "cell_type": "code",
   "execution_count": 167,
   "outputs": [
    {
     "name": "stdout",
     "text": [
      "[('personal', 0.9987538456916809), ('through', 0.9987449049949646), ('power', 0.9987229704856873)]\n",
      "[('american', 0.9995850920677185), ('dark', 0.999584972858429), ('documentary', 0.9995837211608887)]\n",
      "[('american', 0.9993696808815002), ('movie', 0.9993507266044617), ('this', 0.9993354678153992)]\n",
      "[('school', 0.9983227849006653), ('long', 0.9982951879501343), ('police', 0.9982432126998901)]\n",
      "[('american', 0.9997138977050781), ('town', 0.9997057914733887), ('between', 0.9996850490570068)]\n"
     ],
     "output_type": "stream"
    }
   ],
   "source": [
    "print(model_en.wv.most_similar(\"plot\", topn=3))\n",
    "print(model_en.wv.most_similar(\"comedy\", topn=3))\n",
    "print(model_en.wv.most_similar(\"drama\", topn=3))\n",
    "print(model_en.wv.most_similar(\"thriller\", topn=3))\n",
    "print(model_en.wv.most_similar(\"movie\", topn=3))\n"
   ],
   "metadata": {
    "collapsed": false,
    "pycharm": {
     "name": "#%%\n",
     "is_executing": false
    }
   }
  },
  {
   "cell_type": "code",
   "execution_count": 168,
   "outputs": [
    {
     "name": "stdout",
     "text": [
      "people\n",
      "girl\n"
     ],
     "output_type": "stream"
    }
   ],
   "source": [
    "print(model_en.wv.most_similar(positive=[\"fan\", \"movie\"], topn=1)[0][0])\n",
    "print(model_en.wv.most_similar(positive=[\"drama\", \"love\"], topn=1)[0][0])"
   ],
   "metadata": {
    "collapsed": false,
    "pycharm": {
     "name": "#%%\n",
     "is_executing": false
    }
   }
  },
  {
   "cell_type": "code",
   "execution_count": 169,
   "outputs": [
    {
     "data": {
      "text/plain": "0.999546"
     },
     "metadata": {},
     "output_type": "execute_result",
     "execution_count": 169
    }
   ],
   "source": [
    "model_en.wv.similarity('police', 'murder')"
   ],
   "metadata": {
    "collapsed": false,
    "pycharm": {
     "name": "#%%\n",
     "is_executing": false
    }
   }
  },
  {
   "cell_type": "code",
   "execution_count": 170,
   "outputs": [
    {
     "data": {
      "text/plain": "0.9845945"
     },
     "metadata": {},
     "output_type": "execute_result",
     "execution_count": 170
    }
   ],
   "source": [
    "model_en.wv.similarity('horse', 'monster')\n"
   ],
   "metadata": {
    "collapsed": false,
    "pycharm": {
     "name": "#%%\n",
     "is_executing": false
    }
   }
  }
 ],
 "metadata": {
  "kernelspec": {
   "display_name": "Python 3",
   "language": "python",
   "name": "python3"
  },
  "language_info": {
   "codemirror_mode": {
    "name": "ipython",
    "version": 2
   },
   "file_extension": ".py",
   "mimetype": "text/x-python",
   "name": "python",
   "nbconvert_exporter": "python",
   "pygments_lexer": "ipython2",
   "version": "2.7.6"
  },
  "pycharm": {
   "stem_cell": {
    "cell_type": "raw",
    "source": [],
    "metadata": {
     "collapsed": false
    }
   }
  }
 },
 "nbformat": 4,
 "nbformat_minor": 0
}